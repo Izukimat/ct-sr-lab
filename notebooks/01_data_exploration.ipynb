{
 "cells": [
  {
   "cell_type": "markdown",
   "id": "3e5c6d34",
   "metadata": {},
   "source": [
    "# 01 - CT Data Exploration (TCIA)\n",
    "\n",
    "In this notebook, we will:\n",
    "\n",
    "- Query publicly available CT datasets from TCIA using the `tciaclient` library\n",
    "- List collections and their properties\n",
    "- Visualize a few sample CT series\n",
    "- Choose one dataset (under 10 GB) to download into `data/raw`\n"
   ]
  },
  {
   "cell_type": "code",
   "execution_count": 10,
   "id": "6108810e",
   "metadata": {},
   "outputs": [],
   "source": [
    "# !pip install tciaclient pydicom matplotlib numpy\n",
    "import os\n",
    "import zipfile\n",
    "from tqdm import tqdm\n",
    "from pathlib import Path\n",
    "from tciaclient.core import TCIAClient\n",
    "import matplotlib.pyplot as plt\n",
    "import pydicom\n",
    "import numpy as np\n",
    "\n",
    "client = TCIAClient()\n"
   ]
  },
  {
   "cell_type": "code",
   "execution_count": 5,
   "id": "89d2cc95",
   "metadata": {},
   "outputs": [
    {
     "name": "stdout",
     "output_type": "stream",
     "text": [
      "Found 151 collections\n",
      "- 4D-Lung\n",
      "- ACRIN-FLT-Breast\n",
      "- ACRIN-NSCLC-FDG-PET\n",
      "- APOLLO\n",
      "- Anti-PD-1_Lung\n",
      "- BREAST-DIAGNOSIS\n",
      "- Breast-MRI-NACT-Pilot\n",
      "- C4KC-KiTS\n",
      "- CBIS-DDSM\n",
      "- CC-Radiomics-Phantom\n"
     ]
    }
   ],
   "source": [
    "collections = client.get_collection_values()\n",
    "print(f\"Found {len(collections)} collections\")\n",
    "for c in collections[:10]:\n",
    "    print(\"-\", c['Collection'])\n"
   ]
  },
  {
   "cell_type": "code",
   "execution_count": 6,
   "id": "ae090db4",
   "metadata": {},
   "outputs": [
    {
     "name": "stdout",
     "output_type": "stream",
     "text": [
      "Found 422 patients.\n",
      "- LUNG1-001\n",
      "- LUNG1-007\n",
      "- LUNG1-029\n"
     ]
    }
   ],
   "source": [
    "# Set constants\n",
    "COLLECTION = \"NSCLC-Radiomics\"\n",
    "DATA_DIR = Path(\"/mnt/tcia_data/raw\") / COLLECTION\n",
    "DATA_DIR.mkdir(parents=True, exist_ok=True)\n",
    "\n",
    "# Initialize TCIA API client\n",
    "client = TCIAClient()\n",
    "\n",
    "# List all patients in the collection\n",
    "patients = client.get_patient(collection=COLLECTION)\n",
    "print(f\"Found {len(patients)} patients.\")\n",
    "\n",
    "# Optional: preview a few\n",
    "for p in patients[:3]:\n",
    "    print(\"-\", p[\"PatientID\"])"
   ]
  },
  {
   "cell_type": "code",
   "execution_count": 7,
   "id": "70be3a2e",
   "metadata": {},
   "outputs": [
    {
     "name": "stdout",
     "output_type": "stream",
     "text": [
      "Found 1 studies for patient LUNG1-001\n",
      "- 1.3.6.1.4.1.32722.99.99.239341353911714368772597187099978969331\n",
      "Found 1 CT series in study 1.3.6.1.4.1.32722.99.99.239341353911714368772597187099978969331\n",
      "- [No Description] | UID: 1.3.6.1.4.1.32722.99.99.298991776521342375010861296712563382046\n"
     ]
    }
   ],
   "source": [
    "# Pick first patient\n",
    "PATIENT_ID = patients[0][\"PatientID\"]\n",
    "\n",
    "# Get studies\n",
    "studies = client.get_patient_study(collection=COLLECTION, patientId=PATIENT_ID)\n",
    "print(f\"Found {len(studies)} studies for patient {PATIENT_ID}\")\n",
    "for s in studies:\n",
    "    print(\"-\", s[\"StudyInstanceUID\"])\n",
    "\n",
    "# Get CT series from the first study\n",
    "STUDY_UID = studies[0][\"StudyInstanceUID\"]\n",
    "series_list = client.get_series(collection=COLLECTION, studyInstanceUid=STUDY_UID, modality=\"CT\")\n",
    "print(f\"Found {len(series_list)} CT series in study {STUDY_UID}\")\n",
    "\n",
    "for s in series_list:\n",
    "    desc = s.get(\"SeriesDescription\", \"[No Description]\")\n",
    "    print(\"-\", desc, \"| UID:\", s[\"SeriesInstanceUID\"])"
   ]
  },
  {
   "cell_type": "code",
   "execution_count": 11,
   "id": "c7f560ea",
   "metadata": {},
   "outputs": [
    {
     "name": "stderr",
     "output_type": "stream",
     "text": [
      "Downloading NSCLC-Radiomics: 100%|██████████| 422/422 [1:32:10<00:00, 13.11s/it]\n"
     ]
    }
   ],
   "source": [
    "# Loop over all patients and download all CT series\n",
    "for p in tqdm(patients, desc=f\"Downloading {COLLECTION}\"):\n",
    "    patient_id = p[\"PatientID\"]\n",
    "    try:\n",
    "        studies = client.get_patient_study(collection=COLLECTION, patientId=patient_id)\n",
    "        for study in studies:\n",
    "            study_uid = study[\"StudyInstanceUID\"]\n",
    "            series_list = client.get_series(collection=COLLECTION, studyInstanceUid=study_uid, modality=\"CT\")\n",
    "\n",
    "            for series in series_list:\n",
    "                series_uid = series[\"SeriesInstanceUID\"]\n",
    "                out_dir = DATA_DIR / patient_id / series_uid\n",
    "                zip_file = out_dir / \"series.zip\"\n",
    "\n",
    "                if out_dir.exists() and any(out_dir.glob(\"*.dcm\")):\n",
    "                    continue  # already exists\n",
    "\n",
    "                os.makedirs(out_dir, exist_ok=True)\n",
    "                client.get_image(seriesInstanceUid=series_uid, downloadPath=out_dir, zipFileName=\"series.zip\")\n",
    "\n",
    "                with zipfile.ZipFile(zip_file, \"r\") as zip_ref:\n",
    "                    zip_ref.extractall(out_dir)\n",
    "                os.remove(zip_file)\n",
    "\n",
    "    except Exception as e:\n",
    "        print(f\"[ERROR] {patient_id}: {e}\")\n"
   ]
  }
 ],
 "metadata": {
  "kernelspec": {
   "display_name": "ct-sr-lab-oEmYKUkI-py3.12",
   "language": "python",
   "name": "python3"
  },
  "language_info": {
   "codemirror_mode": {
    "name": "ipython",
    "version": 3
   },
   "file_extension": ".py",
   "mimetype": "text/x-python",
   "name": "python",
   "nbconvert_exporter": "python",
   "pygments_lexer": "ipython3",
   "version": "3.12.9"
  }
 },
 "nbformat": 4,
 "nbformat_minor": 5
}
